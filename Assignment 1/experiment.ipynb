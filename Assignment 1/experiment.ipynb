{
 "cells": [
  {
   "cell_type": "markdown",
   "source": [
    "## Collecting the data from the web"
   ],
   "metadata": {
    "collapsed": false
   },
   "id": "e508e3662b4f711c"
  },
  {
   "cell_type": "code",
   "outputs": [
    {
     "name": "stderr",
     "output_type": "stream",
     "text": [
      "Level 60:root:Scraping shortterm\n",
      "Level 60:root:Into page 1\n",
      "Level 60:root:Crawling\n",
      "Level 60:root:Found Table Data\n",
      "Level 60:root:Found row with data\n",
      "Level 60:root:Found row with data\n",
      "Level 60:root:Crawling into the bond data\n",
      "Level 60:root:Found row with data\n",
      "Level 60:root:Crawling into the bond data\n",
      "Level 60:root:Found row with data\n",
      "Level 60:root:Crawling into the bond data\n",
      "Level 60:root:Found row with data\n",
      "Level 60:root:Crawling into the bond data\n",
      "Level 60:root:Found row with data\n",
      "Level 60:root:Crawling into the bond data\n",
      "Level 60:root:Found row with data\n",
      "Level 60:root:Crawling into the bond data\n",
      "Level 60:root:Found row with data\n",
      "Level 60:root:Crawling into the bond data\n",
      "Level 60:root:Found row with data\n",
      "Level 60:root:Crawling into the bond data\n",
      "Level 60:root:Found row with data\n",
      "Level 60:root:Crawling into the bond data\n",
      "Level 60:root:Found row with data\n",
      "Level 60:root:Crawling into the bond data\n",
      "Level 60:root:Found row with data\n",
      "Level 60:root:Crawling into the bond data\n",
      "Level 60:root:Found row with data\n",
      "Level 60:root:Crawling into the bond data\n",
      "Level 60:root:Found row with data\n",
      "Level 60:root:Crawling into the bond data\n",
      "Level 60:root:Found row with data\n",
      "Level 60:root:Crawling into the bond data\n",
      "Level 60:root:Found row with data\n",
      "Level 60:root:Crawling into the bond data\n",
      "Level 60:root:Found row with data\n",
      "Level 60:root:Crawling into the bond data\n",
      "Level 60:root:Found row with data\n",
      "Level 60:root:Crawling into the bond data\n",
      "Level 60:root:Found row with data\n",
      "Level 60:root:Crawling into the bond data\n",
      "Level 60:root:Found row with data\n",
      "Level 60:root:Crawling into the bond data\n",
      "Level 60:root:Found row with data\n",
      "Level 60:root:Crawling into the bond data\n",
      "Level 60:root:Creating dataframe for page 2\n",
      "Level 60:root:Into page 2\n",
      "Level 60:root:Crawling\n",
      "Level 60:root:Found Table Data\n",
      "Level 60:root:Found row with data\n",
      "Level 60:root:Found row with data\n",
      "Level 60:root:Crawling into the bond data\n",
      "Level 60:root:Found row with data\n",
      "Level 60:root:Crawling into the bond data\n",
      "Level 60:root:Found row with data\n",
      "Level 60:root:Crawling into the bond data\n",
      "Level 60:root:Found row with data\n",
      "Level 60:root:Crawling into the bond data\n",
      "Level 60:root:Creating dataframe for page 3\n",
      "Level 60:root:Into page 3\n",
      "Level 60:root:Crawling\n",
      "Level 60:root:Found Table Data\n",
      "Level 60:root:Scraping complete for shortterm January 12 2024 saving into csv file.\n",
      "Level 60:root:Scraping midterm\n",
      "Level 60:root:Into page 1\n",
      "Level 60:root:Crawling\n",
      "Level 60:root:Found Table Data\n",
      "Level 60:root:Found row with data\n",
      "Level 60:root:Found row with data\n",
      "Level 60:root:Crawling into the bond data\n",
      "Level 60:root:Found row with data\n",
      "Level 60:root:Crawling into the bond data\n",
      "Level 60:root:Found row with data\n",
      "Level 60:root:Crawling into the bond data\n",
      "Level 60:root:Found row with data\n",
      "Level 60:root:Crawling into the bond data\n",
      "Level 60:root:Found row with data\n",
      "Level 60:root:Crawling into the bond data\n",
      "Level 60:root:Found row with data\n",
      "Level 60:root:Crawling into the bond data\n",
      "Level 60:root:Found row with data\n",
      "Level 60:root:Crawling into the bond data\n",
      "Level 60:root:Found row with data\n",
      "Level 60:root:Crawling into the bond data\n",
      "Level 60:root:Found row with data\n",
      "Level 60:root:Crawling into the bond data\n",
      "Level 60:root:Found row with data\n",
      "Level 60:root:Crawling into the bond data\n",
      "Level 60:root:Found row with data\n",
      "Level 60:root:Crawling into the bond data\n",
      "Level 60:root:Found row with data\n",
      "Level 60:root:Crawling into the bond data\n",
      "Level 60:root:Found row with data\n",
      "Level 60:root:Crawling into the bond data\n",
      "Level 60:root:Found row with data\n",
      "Level 60:root:Crawling into the bond data\n",
      "Level 60:root:Found row with data\n",
      "Level 60:root:Crawling into the bond data\n",
      "Level 60:root:Found row with data\n",
      "Level 60:root:Crawling into the bond data\n",
      "Level 60:root:Found row with data\n",
      "Level 60:root:Crawling into the bond data\n",
      "Level 60:root:Found row with data\n",
      "Level 60:root:Crawling into the bond data\n",
      "Level 60:root:Found row with data\n",
      "Level 60:root:Crawling into the bond data\n",
      "Level 60:root:Creating dataframe for page 2\n",
      "Level 60:root:Into page 2\n",
      "Level 60:root:Crawling\n",
      "Level 60:root:Found Table Data\n",
      "Level 60:root:Scraping complete for midterm January 12 2024 saving into csv file.\n"
     ]
    }
   ],
   "source": [
    "from crawler import scrape_market_insider\n",
    "\n",
    "scrape_market_insider(\"data\")"
   ],
   "metadata": {
    "collapsed": false,
    "ExecuteTime": {
     "end_time": "2024-01-12T17:10:47.720519400Z",
     "start_time": "2024-01-12T17:06:45.229346200Z"
    }
   },
   "id": "cebf291b257b9fe5",
   "execution_count": 1
  },
  {
   "cell_type": "markdown",
   "source": [
    "## Collating the data into one data file"
   ],
   "metadata": {
    "collapsed": false
   },
   "id": "b3a8e95abf810f01"
  },
  {
   "cell_type": "code",
   "outputs": [
    {
     "name": "stderr",
     "output_type": "stream",
     "text": [
      "Level 60:root:Processing file: data.csv\n",
      "Level 60:root:Processing file: January 08 2024.csv\n",
      "Level 60:root:Processing file: January 09 2024.csv\n",
      "Level 60:root:Processing file: January 10 2024.csv\n",
      "Level 60:root:Processing file: January 11 2024.csv\n",
      "Level 60:root:Processing file: January 12 2024.csv\n",
      "Level 60:root:Processing file: January 08 2024.csv\n",
      "Level 60:root:Processing file: January 09 2024.csv\n",
      "Level 60:root:Processing file: January 10 2024.csv\n",
      "Level 60:root:Processing file: January 11 2024.csv\n",
      "Level 60:root:Processing file: January 12 2024.csv\n",
      "Level 60:root:Finished processing\n"
     ]
    }
   ],
   "source": [
    "from data_collator import generate_final_data\n",
    "generate_final_data()"
   ],
   "metadata": {
    "collapsed": false,
    "ExecuteTime": {
     "end_time": "2024-01-12T17:10:47.772194400Z",
     "start_time": "2024-01-12T17:10:47.718480600Z"
    }
   },
   "id": "bd0e9d1028ad7a33",
   "execution_count": 2
  },
  {
   "cell_type": "code",
   "outputs": [],
   "source": [],
   "metadata": {
    "collapsed": false,
    "ExecuteTime": {
     "end_time": "2024-01-12T17:10:47.772194400Z",
     "start_time": "2024-01-12T17:10:47.769175900Z"
    }
   },
   "id": "66853554484413b8",
   "execution_count": 2
  }
 ],
 "metadata": {
  "kernelspec": {
   "display_name": "Python 3",
   "language": "python",
   "name": "python3"
  },
  "language_info": {
   "codemirror_mode": {
    "name": "ipython",
    "version": 2
   },
   "file_extension": ".py",
   "mimetype": "text/x-python",
   "name": "python",
   "nbconvert_exporter": "python",
   "pygments_lexer": "ipython2",
   "version": "2.7.6"
  }
 },
 "nbformat": 4,
 "nbformat_minor": 5
}
